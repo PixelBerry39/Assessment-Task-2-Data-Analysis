{
 "cells": [
  {
   "attachments": {},
   "cell_type": "markdown",
   "metadata": {},
   "source": [
    "# <span style='color:#c9a5b2;font-family: fantasy;'> Assessment Task 2 Data Science </span>"
   ]
  },
  {
   "attachments": {},
   "cell_type": "markdown",
   "metadata": {},
   "source": [
    "# <span style='color:#baa5c9;font-family: fantasy;'> Identifying and Defining </span>"
   ]
  },
  {
   "attachments": {},
   "cell_type": "markdown",
   "metadata": {},
   "source": [
    "### <span style='color:#a2cae0;font-family: fantasy;'> Choose your Data Scenario and Define your Purpose </span>\n",
    "The data scenario is deaths in Australia from 2012 to 2022, which includes every state and suburb. The aim is to discover what percentage of the population is dying in each suburb, and if the percentage of people who die is affected by the amount of people in a suburb. This is the link to where the data was found, which is from Australian Bureau of Statistics https://www.abs.gov.au/statistics/people/population/deaths-australia/latest-release#data-downloads. The data is free and accessible from the ABS website, and it is a csv file. The data will be accessed by opening the csv file in Microsoft Excel. "
   ]
  },
  {
   "attachments": {},
   "cell_type": "markdown",
   "metadata": {},
   "source": [
    "### <span style='color:#a2cae0;font-family: fantasy;'> Fuctional Requirements </span>\n",
    "- **Data Loading:**\n",
    "    - Description - The process of loading a dataset into software in order to perform data analysis\n",
    "    - Input - \n",
    "    - Output -\n",
    "- **Data Cleaning:**\n",
    "    - Description - \n",
    "    - Input - \n",
    "    - Output - \n",
    "- **Data Analysis:**\n",
    "    - Description - \n",
    "    - Input - \n",
    "    - Output - \n",
    "- **Data Visualisation:**\n",
    "    - Description - \n",
    "    - Input - \n",
    "    - Output - \n",
    "- **Data Reporting:**\n",
    "    - Description - \n",
    "    - Input - \n",
    "    - Output - "
   ]
  },
  {
   "attachments": {},
   "cell_type": "markdown",
   "metadata": {},
   "source": [
    "### <span style='color:#a2cae0;font-family: fantasy;'> Use Cases </span>\n",
    "**Data Loading**\n",
    "- Actor: User\n",
    "- Goal: To load a dataset into the designated software\n",
    "- Preconditions: User has a dataset file ready\n",
    "- Main Flow:\n",
    "    1. User places the dataset for reading into the correct folder\n",
    "    2. System validates the file format\n",
    "    3. System loads the dataset and displays the information in a dataframe\n",
    "- Postconditions: Dataset is loaded and ready for further work to be done\n",
    "\n",
    "**Data Cleaning**\n",
    "- Actor: User\n",
    "- Goal: To clean the dataset by handling invalid, incomplete, incomplete or duplicate data\n",
    "- Preconditions: The user has a loaded dataset\n",
    "- Main Flow:\n",
    "    1. User inputs data that needs to be cleaned\n",
    "    2. System identifies invalid, incomplete, incomplete or duplicate data\n",
    "    3. System cleans and fixes the flaws in the data\n",
    "- Postconditions: The dataset is cleaned and free of errors, ready for analysis\n",
    "\n",
    "**Data Analysis**\n",
    "- Actor: User\n",
    "- Goal: To perform analysis on the cleaned dataset to extract meaningful information\n",
    "- Preconditions: The dataset cleaned and ready for analysis\n",
    "- Main Flow:\n",
    "    1. User selects the analytical tools or methods\n",
    "    2. System applies the chosen methods to the dataset\n",
    "    3. System outputs information from the dataset\n",
    "- Postconditions: Meaningful and useful information are obtained\n",
    "\n",
    "**Data Visualisation**\n",
    "- Actor: User\n",
    "- Goal: To visualize the results of the data analysis for easier interpretation\n",
    "- Preconditions: Data analysis has been completed, and results are available\n",
    "- Main Flow:\n",
    "    1. User selects the type of visualisation\n",
    "    2. System generates the visualisations based on the analyzed data\n",
    "    3. System displays the visualisations\n",
    "- Postconditions: visual representations of the data analysis results are created\n",
    "\n",
    "**Data Reporting**\n",
    "- Actor: User\n",
    "- Goal: To create summarizes the information from the data analysis\n",
    "- Preconditions: visualisations and analysis results are complete\n",
    "- Main Flow:\n",
    "    1. User selects important information and visualisations to include in the report\n",
    "    2. System turns selected content into a presentable report\n",
    "    3. System outputs the report\n",
    "- Postconditions: A report is created, summarizing the information from the data analysis\n"
   ]
  },
  {
   "attachments": {},
   "cell_type": "markdown",
   "metadata": {},
   "source": [
    "### <span style='color:#a2cae0;font-family: fantasy;'> Non Functional Requirements </span>\n",
    "- **Usability:** What is required from the User Interface and a 'README' document? \n",
    "- **Reliability:** What is required from the system when providing information to the user on errors and ensuring data integrity? "
   ]
  },
  {
   "attachments": {},
   "cell_type": "markdown",
   "metadata": {},
   "source": [
    "# <span style='color:#baa5c9;font-family: fantasy;'> Researching and Planning </span>"
   ]
  },
  {
   "attachments": {},
   "cell_type": "markdown",
   "metadata": {},
   "source": [
    "### <span style='color:#a2cae0;font-family: fantasy;'> Research of Chosen Issue </span>\n",
    "- Purpose: The aim is to discover what percentage of the population is dying in each suburb, and if the percentage of people who die is affected by the amount of people in a suburb.\n",
    "- Missing data: \n",
    "- Stakeholders: \n",
    "- Use: "
   ]
  }
 ],
 "metadata": {
  "language_info": {
   "name": "python"
  },
  "orig_nbformat": 4
 },
 "nbformat": 4,
 "nbformat_minor": 2
}
