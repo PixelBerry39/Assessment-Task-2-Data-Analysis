{
 "cells": [
  {
   "attachments": {},
   "cell_type": "markdown",
   "metadata": {},
   "source": [
    "# <span style='color:#c9a5b2;font-family: fantasy;'> Assessment Task 2 Data Science </span>"
   ]
  },
  {
   "attachments": {},
   "cell_type": "markdown",
   "metadata": {},
   "source": [
    "# <span style='color:#baa5c9;font-family: fantasy;'> Identifying and Defining </span>"
   ]
  },
  {
   "attachments": {},
   "cell_type": "markdown",
   "metadata": {},
   "source": [
    "### <span style='color:#a2cae0;font-family: fantasy;'> Choose your Data Scenario and Define your Purpose </span>\n",
    "The data scenario is deaths in Australia from 2012 to 2022, which includes every state and suburb. The aim is to discover what percentage of the population is dying in each suburb, and if the percentage of people who die is affected by the amount of people in a suburb. This is the link to where the data was found, which is from Australian Bureau of Statistics https://www.abs.gov.au/statistics/people/population/deaths-australia/latest-release#data-downloads. The data is free and accessible from the ABS website, and it is a csv file. The data will be accessed by opening the csv file in Microsoft Excel. "
   ]
  },
  {
   "attachments": {},
   "cell_type": "markdown",
   "metadata": {},
   "source": [
    "### <span style='color:#a2cae0;font-family: fantasy;'> Fuctional Requirements </span>\n",
    "- **Data Loading:**\n",
    "    - Description - The process of loading a dataset into software in order to perform data analysis\n",
    "    - Input - Dataset file\n",
    "    - Output - A loaded dataset \n",
    "- **Data Cleaning:**\n",
    "    - Description - Removing or correcting invalid, incomplete, or duplicate data within the dataset\n",
    "    - Input - Loaded and raw data that needs to be cleaned\n",
    "    - Output - Cleaned dataset that's ready to be analysed \n",
    "- **Data Analysis:**\n",
    "    - Description - using statistical, mathematical, or machine learning methods to the cleaned dataset to extract information\n",
    "    - Input - The previously cleaned dataset and tools to analyse it\n",
    "    - Output - Meaningful and useful information extracted from the data \n",
    "- **Data Visualisation:**\n",
    "    - Description - Visual representations such as graphs to easily convey the information that was extracted\n",
    "    - Input - Results fron the analysis that the user wants to be represented visually\n",
    "    - Output - Visual representations such as graphs, charts, histograms, etc that effectively convey the findings\n",
    "- **Data Reporting:**\n",
    "    - Description - Compiling and presenting the results of the data analysis and visualisations in a report\n",
    "    - Input - Sumarised information, visual representations, results\n",
    "    - Output - A finalised presentable report for example a PDF document or a slideshow"
   ]
  },
  {
   "attachments": {},
   "cell_type": "markdown",
   "metadata": {},
   "source": [
    "### <span style='color:#a2cae0;font-family: fantasy;'> Use Cases </span>\n",
    "**Data Loading**\n",
    "- Actor: User\n",
    "- Goal: To load a dataset into the designated software\n",
    "- Preconditions: User has a dataset file ready\n",
    "- Main Flow:\n",
    "    1. User places the dataset for reading into the correct folder\n",
    "    2. System validates the file format\n",
    "    3. System loads the dataset and displays the information in a dataframe\n",
    "- Postconditions: Dataset is loaded and ready for further work to be done\n",
    "\n",
    "**Data Cleaning**\n",
    "- Actor: User\n",
    "- Goal: To clean the dataset by handling invalid, incomplete, incomplete or duplicate data\n",
    "- Preconditions: The user has a loaded dataset\n",
    "- Main Flow:\n",
    "    1. User inputs data that needs to be cleaned\n",
    "    2. System identifies invalid, incomplete, incomplete or duplicate data\n",
    "    3. System cleans and fixes the flaws in the data\n",
    "- Postconditions: The dataset is cleaned and ready for analysis\n",
    "\n",
    "**Data Analysis**\n",
    "- Actor: User\n",
    "- Goal: To perform analysis on the cleaned dataset to extract meaningful information\n",
    "- Preconditions: The dataset cleaned and ready for analysis\n",
    "- Main Flow:\n",
    "    1. User selects the analytical tools or methods\n",
    "    2. System applies the chosen methods to the dataset\n",
    "    3. System outputs information from the dataset\n",
    "- Postconditions: Meaningful and useful information are obtained\n",
    "\n",
    "**Data Visualisation**\n",
    "- Actor: User\n",
    "- Goal: To visualize the results of the data analysis for easier interpretation\n",
    "- Preconditions: Data analysis has been completed, and results are available\n",
    "- Main Flow:\n",
    "    1. User selects the type of visualisation\n",
    "    2. System generates the visualisations based on the analyzed data\n",
    "    3. System displays the visualisations\n",
    "- Postconditions: visual representations of the data analysis results are created\n",
    "\n",
    "**Data Reporting**\n",
    "- Actor: User\n",
    "- Goal: To create summarizes the information from the data analysis\n",
    "- Preconditions: visualisations and analysis results are complete\n",
    "- Main Flow:\n",
    "    1. User selects important information and visualisations to include in the report\n",
    "    2. System turns selected content into a presentable report\n",
    "    3. System outputs the report\n",
    "- Postconditions: A report is created, summarizing the information from the data analysis\n"
   ]
  },
  {
   "attachments": {},
   "cell_type": "markdown",
   "metadata": {},
   "source": [
    "### <span style='color:#a2cae0;font-family: fantasy;'> Non Functional Requirements </span>\n",
    "- **Usability:** The user interface should be visually appealing and easy to use, and comprehensive 'README' document must also be included. The 'README' document should explain where to find certain information, and provide a basic introduction, a description and table of contents.\n",
    "- **Reliability:** The system should provide accurate information to the user regarding any errors that occur. The system must ensure data integrity throughout all processes, meaning that data should not be lost, corrupted, or altered."
   ]
  },
  {
   "attachments": {},
   "cell_type": "markdown",
   "metadata": {},
   "source": [
    "# <span style='color:#baa5c9;font-family: fantasy;'> Researching and Planning </span>"
   ]
  },
  {
   "attachments": {},
   "cell_type": "markdown",
   "metadata": {},
   "source": [
    "### <span style='color:#a2cae0;font-family: fantasy;'> Research of Chosen Issue </span>\n",
    "- Purpose: The purpose is to discover what percentage of the population is dying in each suburb, and if the percentage of people who die is affected by the amount of people in each suburb. Another purpose making this information accessible, easy to understand and accurate for the people who need it.\n",
    "- Missing data: Potential missing data could include incomplete death records, missing population data for certain suburbs, or gaps in data coverage for specific years\n",
    "- Stakeholders:\n",
    "    - Government Agencies such as the Australian Bureau of Statistics\n",
    "    - Public Health Researchers such as epidemiologists, demographers, and public health analysts\n",
    "    - Residents of the suburbs under study, who may be concerned with health trends in their areas\n",
    "    - Local governments that need this information regarding their population\n",
    "- Use: The information from this analysis can be used by government for effective city planning to ensure everyone is healthy and don't die, by public health researchers to understand health trends, and by local communities to raise awareness and address potential health concerns."
   ]
  },
  {
   "cell_type": "markdown",
   "metadata": {},
   "source": [
    "### <span style='color:#a2cae0;font-family: fantasy;'> Privacy and Security </span>\n",
    "- Data Privacy of Source: The data is sourced from the Australian Bureau of Statistics (ABS), which is a government organisation responsible for collecting, analyzing, and publishing statistical information. They must follow Australian privacy laws, including the Privacy Act 1988, which governs how personal information is handled. The ABS is responsible for protecting sensitive personal information such as name, age, gender or phone number. If they don't, they are breaking the law and it makes it extremely dangerous for the individuals whose information can will exposed. This leads to impersonating or phishing, which will cause a lot of harm to individuals. \n",
    "\n",
    "- Application Data Privacy: The responsibilities in maintaining user privacy is the same. Even though the data from ABS is anonymised, it must be ensured that no further identifiable information is added. If the software collects user data, it must be ensured that this data is handled securely. If the software were to be made publicly available, there would be a responsibility in protecting any data that users input into the system. This includes ensuring that the application complies with relevant privacy laws and that users' data is not shared without consent.\n",
    "\n",
    "- Cyber Security: User Authentication: This involves verifying the identity of a user before granting access to the system. It usually requires users to provide credentials such as a username and password, but can also include two-factor authentication (2FA) for added security Password Hashing: Instead of storing passwords in plain text, which is vulnerable to theft, passwords should be hashed using a cryptographic algorithm. Hashing converts the password into a fixed-length string of characters, which cannot be easily reversed back into the original password. This ensures that even if the data is breached, the passwords remain secure. Encryption: Encryption is the process of converting data into a code to prevent unauthorized access. In the context of cybersecurity, it should be applied to data both at rest (stored data) and in transit (data being transferred). Encryption ensures that sensitive information, such as personal data or communication between the user and the server, is protected from eavesdropping or interception.\n"
   ]
  }
 ],
 "metadata": {
  "language_info": {
   "name": "python"
  },
  "orig_nbformat": 4
 },
 "nbformat": 4,
 "nbformat_minor": 2
}
